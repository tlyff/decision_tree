{
  "nbformat": 4,
  "nbformat_minor": 0,
  "metadata": {
    "colab": {
      "name": "Copie de SD201_TP3.ipynb",
      "provenance": [],
      "collapsed_sections": []
    },
    "kernelspec": {
      "name": "python3",
      "display_name": "Python 3"
    }
  },
  "cells": [
    {
      "cell_type": "markdown",
      "metadata": {
        "id": "hwXSV7OH9JRR"
      },
      "source": [
        "#TP3 : Decision tree"
      ]
    },
    {
      "cell_type": "code",
      "metadata": {
        "id": "JanXF1vR9fxj"
      },
      "source": [
        "import numpy as np\n",
        "import math\n",
        "import copy"
      ],
      "execution_count": null,
      "outputs": []
    },
    {
      "cell_type": "code",
      "metadata": {
        "id": "pNodl3H59IB7"
      },
      "source": [
        "#Question 1a\n",
        "\n",
        "#We create a fonction to extract data from the file\n",
        "def dataFromFile(f):\n",
        "    dataFile = open(f,'r')\n",
        "    lines = dataFile.readlines()\n",
        "    records = []\n",
        "    attributes = [[],[],[]]\n",
        "    types = lines[0].split(',')\n",
        "    mot = types[-1].strip('\\n')\n",
        "    types[-1] = mot\n",
        "    for line in lines[1:]:\n",
        "        current = []\n",
        "        cutLine = line.split(',')\n",
        "        attributes[0].append(int(cutLine[0]))\n",
        "        attributes[1].append(int(cutLine[1]))\n",
        "        attributes[2].append(int(cutLine[2]))\n",
        "        for i in cutLine:\n",
        "            current.append(int(i))\n",
        "        records.append(current)\n",
        "    for i in range(0,3):\n",
        "        dicattribute = dict.fromkeys(attributes[i])\n",
        "        attributes[i] = list(dicattribute)\n",
        "        attributes[i] = sorted(attributes[i])\n",
        "    records = np.array(records)\n",
        "    dataFile.close()\n",
        "    #It returns all the data, the different possibilities for each type of data\n",
        "    #and the names associated with each column\n",
        "    return records, attributes, types"
      ],
      "execution_count": null,
      "outputs": []
    },
    {
      "cell_type": "code",
      "metadata": {
        "id": "mMbPbCmAtApP"
      },
      "source": [
        "#This function return the gini of a list of 0 or 1\n",
        "def gini(group):\n",
        "    total = len(group)\n",
        "    if total == 0:\n",
        "      g = 0.5\n",
        "    else:\n",
        "      C1=sum(group)\n",
        "      C2=total - C1\n",
        "      g = 1 - (C1/total)**2 - (C2/total)**2\n",
        "    return g"
      ],
      "execution_count": null,
      "outputs": []
    },
    {
      "cell_type": "code",
      "metadata": {
        "id": "CfJaNyXO_XRk"
      },
      "source": [
        "#This function returns the gini of a set of data with four columns\n",
        "def gini2(D):\n",
        "  group = []\n",
        "  for line in D:\n",
        "    group.append(line[3])\n",
        "  return gini(group)"
      ],
      "execution_count": null,
      "outputs": []
    },
    {
      "cell_type": "code",
      "metadata": {
        "id": "sLsKJy0wB9aS"
      },
      "source": [
        "#This function split the data in to lists depending on whether or not\n",
        "#their value in the columnNb column is > splitValue\n",
        "def splitData(records,columnNb,splitValue):\n",
        "    recordSplit = [[],[]]\n",
        "    for line in records:\n",
        "        if line[columnNb]<=splitValue:\n",
        "            recordSplit[0].append(line)\n",
        "        else:\n",
        "            recordSplit[1].append(line)\n",
        "    return recordSplit"
      ],
      "execution_count": null,
      "outputs": []
    },
    {
      "cell_type": "code",
      "metadata": {
        "id": "hvoe0WS1tC9f"
      },
      "source": [
        "#Determines the best split value for the column columnNb according to the gini\n",
        "def giniSplit(records, attributes, columnNb):\n",
        "    dataToSplit = [[],[]]\n",
        "    possibleValues = attributes[columnNb]\n",
        "    recordSplit = [[],[]]\n",
        "    splitValue = 0\n",
        "    minSp = 0.5\n",
        "\n",
        "    for line in records:\n",
        "        dataToSplit[0].append(line[columnNb])\n",
        "        dataToSplit[1].append(line[3]) #survived or not: 1 or 0\n",
        "\n",
        "    \n",
        "    #if there are more than two possible values for the attribute\n",
        "    if len(possibleValues)>2:\n",
        "        giniSplitList = []\n",
        "        for i in range(len(possibleValues)-1):\n",
        "            res1 = []\n",
        "            res2 = []\n",
        "            for j in range(len(dataToSplit[0])):\n",
        "                if  dataToSplit[0][j] <= possibleValues[i]:\n",
        "                    res1.append(dataToSplit[1][j])\n",
        "                else:\n",
        "                    res2.append(dataToSplit[1][j])\n",
        "                \n",
        "\n",
        "            if len(res1)!=0 and len(res2)!=0:\n",
        "              gini1 = gini(res1)\n",
        "              gini2 = gini(res2)\n",
        "              giniSp = (gini1*len(res1)/(len(res2)+len(res1)))+(gini2*len(res2)/(len(res2)+len(res1)))\n",
        "              giniSplitList.append(giniSp)\n",
        "            \n",
        "            else:\n",
        "              giniSplitList.append(0.5)\n",
        "\n",
        "\n",
        "        else:\n",
        "          minSp = min(giniSplitList)\n",
        "          indexValue = giniSplitList.index(minSp)\n",
        "          splitValue = possibleValues[indexValue]\n",
        "          recordSplit = splitData(records,columnNb,splitValue)\n",
        "    \n",
        "    #if there are only two values for the attribute\n",
        "    else:\n",
        "        splitValue = possibleValues[0]\n",
        "        recordSplit = splitData(records,columnNb,splitValue)\n",
        "        res1 = []\n",
        "        res2 = []\n",
        "        for j in range(len(dataToSplit[0])):\n",
        "          if  dataToSplit[0][j] <= splitValue:\n",
        "            res1.append(dataToSplit[1][j])\n",
        "          else:\n",
        "            res2.append(dataToSplit[1][j])\n",
        "        if len(res1)!=0 and len(res2) !=0:\n",
        "          gini1 = gini(res1)\n",
        "          gini2 = gini(res2)\n",
        "          minSp = (gini1*len(res1)/(len(res2)+len(res1)))+(gini2*len(res2)/(len(res2)+len(res1)))\n",
        "        else:\n",
        "          minSp = 0.5\n",
        "        \n",
        "        \n",
        "    return minSp, recordSplit, splitValue"
      ],
      "execution_count": null,
      "outputs": []
    },
    {
      "cell_type": "code",
      "metadata": {
        "id": "PenFrCsU9V8h"
      },
      "source": [
        "#From a file, we import data and launch the recursive function\n",
        "def BuildDecisionTree(f, minNum):\n",
        "  D,  A, names = dataFromFile(f)\n",
        "  return linTree(Build(D,A, minNum,names,0))"
      ],
      "execution_count": null,
      "outputs": []
    },
    {
      "cell_type": "code",
      "metadata": {
        "id": "DKGODqNg9t1K"
      },
      "source": [
        "#Recursive fonction to create the DecisionTree\n",
        "def Build(D, A, minNum,names,d):\n",
        "  g = gini2(D)\n",
        "\n",
        "  classBool = D[0][3]\n",
        "  sameBool = True\n",
        "  s = 0\n",
        "  for i in D:\n",
        "    if i[3] != classBool:\n",
        "      sameBool = False\n",
        "    s += i[3]\n",
        "  if sameBool == True : #if they all survive or all die \n",
        "    return [0, classBool, D]\n",
        "\n",
        "  elif len(D) < minNum :\n",
        "    return [g,d,D]\n",
        "\n",
        "\n",
        "\n",
        "  else : \n",
        "    \n",
        "    #then we calculate which split is the best\n",
        "    minSplit = 0.5\n",
        "    minIndex = 0\n",
        "    for i in range(len(A)):\n",
        "      minSp, recordSplit, splitValue = giniSplit(D,A,i)\n",
        "      if minSp <= minSplit:\n",
        "        minSplit = minSp\n",
        "        minIndex = i\n",
        "        minSplitValue = splitValue\n",
        "        D1 = recordSplit[0]\n",
        "        D2 = recordSplit[1]\n",
        "    if D1 == [] or D2 == []:\n",
        "      cL = 0\n",
        "      #we find the class by majority\n",
        "      #Counting the occurences of 1 and 0:\n",
        "      S = sum(D[i][3] for i in range(len(D)))/len(D)\n",
        "       #There is a tie between the default and the majority class => default class\n",
        "       #otherwise it is determined by majority.\n",
        "      if S<=0.5:\n",
        "        cL=0\n",
        "      else:\n",
        "        cL=1\n",
        "      return [g,cL,D]\n",
        "          \n",
        "    else:\n",
        "    #recursive call and add information (gini and feature)\n",
        "      return [g, names[minIndex] +'<'+ str(minSplitValue+1), Build(D1, A, minNum,names,d), Build(D2, A, minNum,names,d)]"
      ],
      "execution_count": null,
      "outputs": []
    },
    {
      "cell_type": "code",
      "metadata": {
        "id": "pRnfQ16CU2dG"
      },
      "source": [
        "#Recursively linearizing the tree we had\n",
        "def linTree(decisionTree):\n",
        "  T = []\n",
        "  for i in range(2**6 -1):\n",
        "    T.append([])\n",
        "  lin(decisionTree, 0, T) #lauching recursion\n",
        "  return T"
      ],
      "execution_count": null,
      "outputs": []
    },
    {
      "cell_type": "code",
      "metadata": {
        "id": "4G6gTYV0znGO"
      },
      "source": [
        "#Recursive function to linearize the tree\n",
        "def lin(tree, position, T):\n",
        "  T[position].append(tree[0])\n",
        "  T[position].append(tree[1])\n",
        "  if tree[1] == 0 or tree[1] == 1 : #it is a leaf\n",
        "    T[position].append(tree[2])\n",
        "  else: #it isn't a leaf so we have to browse deeper\n",
        "    lin(tree[2], 2*position+1, T)\n",
        "    lin(tree[3], 2*position+2, T)"
      ],
      "execution_count": null,
      "outputs": []
    },
    {
      "cell_type": "code",
      "metadata": {
        "id": "md4WYKM0aRx3",
        "colab": {
          "base_uri": "https://localhost:8080/"
        },
        "outputId": "65894529-d0dd-48fa-8ed3-f9c4ca31a948"
      },
      "source": [
        "#Test\n",
        "print(dataFromFile('sample_data/data.csv'))\n",
        "dT = BuildDecisionTree('sample_data/data.csv',5)\n",
        "print(dT)\n",
        "print(dT[62])"
      ],
      "execution_count": null,
      "outputs": [
        {
          "output_type": "stream",
          "text": [
            "(array([[1, 3, 2, 0],\n",
            "       [0, 1, 0, 1],\n",
            "       [0, 3, 2, 1],\n",
            "       ...,\n",
            "       [0, 3, 2, 0],\n",
            "       [1, 1, 0, 1],\n",
            "       [1, 3, 1, 0]]), [[0, 1], [1, 2, 3], [0, 1, 2]], ['Sex', 'Pclass', 'Embarked', 'Survived'])\n",
            "[[0.4723650263627057, 'Sex<1'], [0.384430473372781, 'Pclass<3'], [0.3064437162277842, 'Pclass<2'], [0.10140306122448985, 'Embarked<2'], [0.5, 'Embarked<2'], [0.46560064498790643, 'Embarked<1'], [0.24174858108924058, 'Embarked<1'], [0.03702385190459241, 'Pclass<2'], [0.12945179584120986, 'Pclass<2'], [0.4228316326530613, 'Embarked<1'], [0.46875, 0, [array([0, 3, 2, 1]), array([0, 3, 2, 1]), array([0, 3, 2, 1]), array([0, 3, 2, 0]), array([0, 3, 2, 0]), array([0, 3, 2, 0]), array([0, 3, 2, 1]), array([0, 3, 2, 0]), array([0, 3, 2, 0]), array([0, 3, 2, 0]), array([0, 3, 2, 1]), array([0, 3, 2, 0]), array([0, 3, 2, 1]), array([0, 3, 2, 1]), array([0, 3, 2, 0]), array([0, 3, 2, 1]), array([0, 3, 2, 0]), array([0, 3, 2, 0]), array([0, 3, 2, 0]), array([0, 3, 2, 1]), array([0, 3, 2, 1]), array([0, 3, 2, 0]), array([0, 3, 2, 0]), array([0, 3, 2, 1]), array([0, 3, 2, 0]), array([0, 3, 2, 1]), array([0, 3, 2, 1]), array([0, 3, 2, 0]), array([0, 3, 2, 1]), array([0, 3, 2, 0]), array([0, 3, 2, 1]), array([0, 3, 2, 0]), array([0, 3, 2, 0]), array([0, 3, 2, 0]), array([0, 3, 2, 0]), array([0, 3, 2, 0]), array([0, 3, 2, 1]), array([0, 3, 2, 0]), array([0, 3, 2, 1]), array([0, 3, 2, 1]), array([0, 3, 2, 1]), array([0, 3, 2, 0]), array([0, 3, 2, 1]), array([0, 3, 2, 1]), array([0, 3, 2, 0]), array([0, 3, 2, 0]), array([0, 3, 2, 0]), array([0, 3, 2, 0]), array([0, 3, 2, 0]), array([0, 3, 2, 0]), array([0, 3, 2, 0]), array([0, 3, 2, 1]), array([0, 3, 2, 0]), array([0, 3, 2, 0]), array([0, 3, 2, 1]), array([0, 3, 2, 1]), array([0, 3, 2, 0]), array([0, 3, 2, 0]), array([0, 3, 2, 0]), array([0, 3, 2, 0]), array([0, 3, 2, 0]), array([0, 3, 2, 1]), array([0, 3, 2, 1]), array([0, 3, 2, 0]), array([0, 3, 2, 0]), array([0, 3, 2, 0]), array([0, 3, 2, 0]), array([0, 3, 2, 0]), array([0, 3, 2, 0]), array([0, 3, 2, 0]), array([0, 3, 2, 1]), array([0, 3, 2, 1]), array([0, 3, 2, 0]), array([0, 3, 2, 0]), array([0, 3, 2, 0]), array([0, 3, 2, 1]), array([0, 3, 2, 1]), array([0, 3, 2, 0]), array([0, 3, 2, 1]), array([0, 3, 2, 0]), array([0, 3, 2, 0]), array([0, 3, 2, 0]), array([0, 3, 2, 0]), array([0, 3, 2, 1]), array([0, 3, 2, 1]), array([0, 3, 2, 0]), array([0, 3, 2, 0]), array([0, 3, 2, 0])]], [0.48185941043083896, 0, [array([1, 1, 0, 0]), array([1, 1, 0, 0]), array([1, 1, 0, 0]), array([1, 1, 0, 0]), array([1, 1, 0, 0]), array([1, 1, 0, 1]), array([1, 1, 0, 0]), array([1, 1, 0, 0]), array([1, 1, 0, 0]), array([1, 1, 0, 0]), array([1, 1, 0, 1]), array([1, 1, 0, 0]), array([1, 1, 0, 0]), array([1, 1, 0, 1]), array([1, 1, 0, 0]), array([1, 1, 0, 0]), array([1, 1, 0, 0]), array([1, 1, 0, 1]), array([1, 1, 0, 1]), array([1, 1, 0, 0]), array([1, 1, 0, 0]), array([1, 1, 0, 0]), array([1, 1, 0, 0]), array([1, 1, 0, 1]), array([1, 1, 0, 0]), array([1, 1, 0, 0]), array([1, 1, 0, 1]), array([1, 1, 0, 1]), array([1, 1, 0, 1]), array([1, 1, 0, 1]), array([1, 1, 0, 1]), array([1, 1, 0, 1]), array([1, 1, 0, 0]), array([1, 1, 0, 1]), array([1, 1, 0, 1]), array([1, 1, 0, 0]), array([1, 1, 0, 1]), array([1, 1, 0, 0]), array([1, 1, 0, 0]), array([1, 1, 0, 0]), array([1, 1, 0, 1]), array([1, 1, 0, 1])]], [0.455, 'Embarked<2'], [0.3503025987896047, 'Pclass<3'], [0.22524194945669662, 'Embarked<2'], [0.04442148760330576, 'Embarked<1'], [0, 1, [array([0, 2, 0, 1]), array([0, 2, 0, 1]), array([0, 2, 1, 1]), array([0, 2, 1, 1]), array([0, 2, 0, 1]), array([0, 2, 0, 1]), array([0, 2, 0, 1]), array([0, 2, 0, 1]), array([0, 2, 0, 1])]], [0.079861111111111, 1, [array([0, 1, 2, 1]), array([0, 1, 2, 1]), array([0, 1, 2, 1]), array([0, 1, 2, 1]), array([0, 1, 2, 1]), array([0, 1, 2, 1]), array([0, 1, 2, 1]), array([0, 1, 2, 1]), array([0, 1, 2, 1]), array([0, 1, 2, 1]), array([0, 1, 2, 1]), array([0, 1, 2, 1]), array([0, 1, 2, 0]), array([0, 1, 2, 1]), array([0, 1, 2, 1]), array([0, 1, 2, 1]), array([0, 1, 2, 1]), array([0, 1, 2, 1]), array([0, 1, 2, 1]), array([0, 1, 2, 1]), array([0, 1, 2, 1]), array([0, 1, 2, 0]), array([0, 1, 2, 1]), array([0, 1, 2, 1]), array([0, 1, 2, 1]), array([0, 1, 2, 1]), array([0, 1, 2, 1]), array([0, 1, 2, 1]), array([0, 1, 2, 1]), array([0, 1, 2, 1]), array([0, 1, 2, 1]), array([0, 1, 2, 1]), array([0, 1, 2, 1]), array([0, 1, 2, 1]), array([0, 1, 2, 1]), array([0, 1, 2, 1]), array([0, 1, 2, 1]), array([0, 1, 2, 1]), array([0, 1, 2, 1]), array([0, 1, 2, 1]), array([0, 1, 2, 1]), array([0, 1, 2, 1]), array([0, 1, 2, 1]), array([0, 1, 2, 1]), array([0, 1, 2, 1]), array([0, 1, 2, 1]), array([0, 1, 2, 1]), array([0, 1, 2, 1])]], [0.16306527066161736, 1, [array([0, 2, 2, 1]), array([0, 2, 2, 0]), array([0, 2, 2, 1]), array([0, 2, 2, 1]), array([0, 2, 2, 1]), array([0, 2, 2, 1]), array([0, 2, 2, 1]), array([0, 2, 2, 1]), array([0, 2, 2, 1]), array([0, 2, 2, 1]), array([0, 2, 2, 1]), array([0, 2, 2, 1]), array([0, 2, 2, 0]), array([0, 2, 2, 1]), array([0, 2, 2, 1]), array([0, 2, 2, 1]), array([0, 2, 2, 1]), array([0, 2, 2, 1]), array([0, 2, 2, 0]), array([0, 2, 2, 1]), array([0, 2, 2, 1]), array([0, 2, 2, 1]), array([0, 2, 2, 1]), array([0, 2, 2, 1]), array([0, 2, 2, 0]), array([0, 2, 2, 1]), array([0, 2, 2, 1]), array([0, 2, 2, 1]), array([0, 2, 2, 1]), array([0, 2, 2, 1]), array([0, 2, 2, 1]), array([0, 2, 2, 1]), array([0, 2, 2, 1]), array([0, 2, 2, 1]), array([0, 2, 2, 1]), array([0, 2, 2, 1]), array([0, 2, 2, 1]), array([0, 2, 2, 1]), array([0, 2, 2, 1]), array([0, 2, 2, 1]), array([0, 2, 2, 1]), array([0, 2, 2, 1]), array([0, 2, 2, 1]), array([0, 2, 2, 1]), array([0, 2, 2, 1]), array([0, 2, 2, 1]), array([0, 2, 2, 1]), array([0, 2, 2, 1]), array([0, 2, 2, 1]), array([0, 2, 2, 1]), array([0, 2, 2, 1]), array([0, 2, 2, 1]), array([0, 2, 2, 1]), array([0, 2, 2, 1]), array([0, 2, 2, 1]), array([0, 2, 2, 1]), array([0, 2, 2, 1]), array([0, 2, 2, 1]), array([0, 2, 2, 1]), array([0, 2, 2, 1]), array([0, 2, 2, 1]), array([0, 2, 2, 0]), array([0, 2, 2, 1]), array([0, 2, 2, 1]), array([0, 2, 2, 0]), array([0, 2, 2, 1]), array([0, 2, 2, 1])]], [0.4536862003780718, 1, [array([0, 3, 0, 1]), array([0, 3, 0, 1]), array([0, 3, 0, 0]), array([0, 3, 0, 0]), array([0, 3, 0, 1]), array([0, 3, 0, 0]), array([0, 3, 0, 0]), array([0, 3, 0, 1]), array([0, 3, 0, 0]), array([0, 3, 0, 1]), array([0, 3, 0, 1]), array([0, 3, 0, 1]), array([0, 3, 0, 1]), array([0, 3, 0, 1]), array([0, 3, 0, 0]), array([0, 3, 0, 1]), array([0, 3, 0, 1]), array([0, 3, 0, 0]), array([0, 3, 0, 1]), array([0, 3, 0, 1]), array([0, 3, 0, 0]), array([0, 3, 0, 1]), array([0, 3, 0, 1])]], [0.39669421487603307, 1, [array([0, 3, 1, 1]), array([0, 3, 1, 1]), array([0, 3, 1, 1]), array([0, 3, 1, 1]), array([0, 3, 1, 1]), array([0, 3, 1, 1]), array([0, 3, 1, 1]), array([0, 3, 1, 1]), array([0, 3, 1, 1]), array([0, 3, 1, 1]), array([0, 3, 1, 1]), array([0, 3, 1, 1]), array([0, 3, 1, 0]), array([0, 3, 1, 1]), array([0, 3, 1, 1]), array([0, 3, 1, 1]), array([0, 3, 1, 1]), array([0, 3, 1, 1]), array([0, 3, 1, 1]), array([0, 3, 1, 1]), array([0, 3, 1, 0]), array([0, 3, 1, 0]), array([0, 3, 1, 1]), array([0, 3, 1, 0]), array([0, 3, 1, 1]), array([0, 3, 1, 1]), array([0, 3, 1, 0]), array([0, 3, 1, 0]), array([0, 3, 1, 0]), array([0, 3, 1, 1]), array([0, 3, 1, 1]), array([0, 3, 1, 0]), array([0, 3, 1, 0])]], [], [], [], [], [0, 0, [array([1, 1, 1, 0])]], [0.4576189713186989, 0, [array([1, 1, 2, 0]), array([1, 1, 2, 1]), array([1, 1, 2, 0]), array([1, 1, 2, 0]), array([1, 1, 2, 1]), array([1, 1, 2, 0]), array([1, 1, 2, 0]), array([1, 1, 2, 0]), array([1, 1, 2, 0]), array([1, 1, 2, 0]), array([1, 1, 2, 0]), array([1, 1, 2, 0]), array([1, 1, 2, 0]), array([1, 1, 2, 0]), array([1, 1, 2, 0]), array([1, 1, 2, 1]), array([1, 1, 2, 1]), array([1, 1, 2, 1]), array([1, 1, 2, 0]), array([1, 1, 2, 0]), array([1, 1, 2, 0]), array([1, 1, 2, 0]), array([1, 1, 2, 0]), array([1, 1, 2, 1]), array([1, 1, 2, 1]), array([1, 1, 2, 0]), array([1, 1, 2, 0]), array([1, 1, 2, 0]), array([1, 1, 2, 0]), array([1, 1, 2, 0]), array([1, 1, 2, 1]), array([1, 1, 2, 1]), array([1, 1, 2, 0]), array([1, 1, 2, 0]), array([1, 1, 2, 1]), array([1, 1, 2, 1]), array([1, 1, 2, 1]), array([1, 1, 2, 0]), array([1, 1, 2, 1]), array([1, 1, 2, 0]), array([1, 1, 2, 0]), array([1, 1, 2, 0]), array([1, 1, 2, 0]), array([1, 1, 2, 1]), array([1, 1, 2, 1]), array([1, 1, 2, 0]), array([1, 1, 2, 0]), array([1, 1, 2, 0]), array([1, 1, 2, 0]), array([1, 1, 2, 0]), array([1, 1, 2, 1]), array([1, 1, 2, 0]), array([1, 1, 2, 1]), array([1, 1, 2, 1]), array([1, 1, 2, 0]), array([1, 1, 2, 1]), array([1, 1, 2, 0]), array([1, 1, 2, 1]), array([1, 1, 2, 0]), array([1, 1, 2, 0]), array([1, 1, 2, 1]), array([1, 1, 2, 0]), array([1, 1, 2, 1]), array([1, 1, 2, 1]), array([1, 1, 2, 0]), array([1, 1, 2, 1]), array([1, 1, 2, 1]), array([1, 1, 2, 1]), array([1, 1, 2, 0]), array([1, 1, 2, 0]), array([1, 1, 2, 0]), array([1, 1, 2, 0]), array([1, 1, 2, 1]), array([1, 1, 2, 0]), array([1, 1, 2, 0]), array([1, 1, 2, 0]), array([1, 1, 2, 1]), array([1, 1, 2, 0]), array([1, 1, 2, 0])]], [0.31999999999999984, 0, [array([1, 2, 0, 0]), array([1, 2, 0, 0]), array([1, 2, 0, 0]), array([1, 2, 0, 0]), array([1, 2, 0, 0]), array([1, 2, 0, 0]), array([1, 2, 0, 1]), array([1, 2, 0, 0]), array([1, 2, 0, 0]), array([1, 2, 0, 1])]], [0.3569497025419146, 0, [array([1, 3, 0, 0]), array([1, 3, 0, 1]), array([1, 3, 0, 0]), array([1, 3, 0, 0]), array([1, 3, 0, 0]), array([1, 3, 0, 0]), array([1, 3, 0, 1]), array([1, 3, 0, 0]), array([1, 3, 0, 1]), array([1, 3, 0, 0]), array([1, 3, 0, 0]), array([1, 3, 0, 1]), array([1, 3, 0, 0]), array([1, 3, 0, 0]), array([1, 3, 0, 0]), array([1, 3, 0, 0]), array([1, 3, 0, 0]), array([1, 3, 0, 0]), array([1, 3, 0, 0]), array([1, 3, 0, 1]), array([1, 3, 0, 0]), array([1, 3, 0, 0]), array([1, 3, 0, 0]), array([1, 3, 0, 0]), array([1, 3, 0, 0]), array([1, 3, 0, 1]), array([1, 3, 0, 0]), array([1, 3, 0, 0]), array([1, 3, 0, 0]), array([1, 3, 0, 0]), array([1, 3, 0, 1]), array([1, 3, 0, 0]), array([1, 3, 0, 0]), array([1, 3, 0, 1]), array([1, 3, 0, 0]), array([1, 3, 0, 1]), array([1, 3, 0, 0]), array([1, 3, 0, 0]), array([1, 3, 0, 1]), array([1, 3, 0, 0]), array([1, 3, 0, 0]), array([1, 3, 0, 0]), array([1, 3, 0, 0])]], [0.13874999999999993, 'Pclass<3'], [0.23407405146363058, 'Pclass<3'], [0.045429962141698275, 1, [array([0, 1, 0, 1]), array([0, 1, 0, 1]), array([0, 1, 0, 1]), array([0, 1, 0, 0]), array([0, 1, 0, 1]), array([0, 1, 0, 1]), array([0, 1, 0, 1]), array([0, 1, 0, 1]), array([0, 1, 0, 1]), array([0, 1, 0, 1]), array([0, 1, 0, 1]), array([0, 1, 0, 1]), array([0, 1, 0, 1]), array([0, 1, 0, 1]), array([0, 1, 0, 1]), array([0, 1, 0, 1]), array([0, 1, 0, 1]), array([0, 1, 0, 1]), array([0, 1, 0, 1]), array([0, 1, 0, 1]), array([0, 1, 0, 1]), array([0, 1, 0, 1]), array([0, 1, 0, 1]), array([0, 1, 0, 1]), array([0, 1, 0, 1]), array([0, 1, 0, 1]), array([0, 1, 0, 1]), array([0, 1, 0, 1]), array([0, 1, 0, 1]), array([0, 1, 0, 1]), array([0, 1, 0, 1]), array([0, 1, 0, 1]), array([0, 1, 0, 1]), array([0, 1, 0, 1]), array([0, 1, 0, 1]), array([0, 1, 0, 1]), array([0, 1, 0, 1]), array([0, 1, 0, 1]), array([0, 1, 0, 1]), array([0, 1, 0, 1]), array([0, 1, 0, 1]), array([0, 1, 0, 1]), array([0, 1, 0, 1])]], [0, 1, [array([0, 1, 1, 1])]], [], [], [], [], [], [], [], [], [], [], [], [], [], [], [], [], [], [], [], [], [], [], [], [], [], [], [0, 0, [array([1, 2, 1, 0])]], [0.14201183431952646, 0, [array([1, 3, 1, 0]), array([1, 3, 1, 0]), array([1, 3, 1, 0]), array([1, 3, 1, 0]), array([1, 3, 1, 0]), array([1, 3, 1, 0]), array([1, 3, 1, 0]), array([1, 3, 1, 0]), array([1, 3, 1, 0]), array([1, 3, 1, 0]), array([1, 3, 1, 0]), array([1, 3, 1, 0]), array([1, 3, 1, 0]), array([1, 3, 1, 1]), array([1, 3, 1, 0]), array([1, 3, 1, 0]), array([1, 3, 1, 0]), array([1, 3, 1, 0]), array([1, 3, 1, 0]), array([1, 3, 1, 0]), array([1, 3, 1, 0]), array([1, 3, 1, 1]), array([1, 3, 1, 0]), array([1, 3, 1, 0]), array([1, 3, 1, 0]), array([1, 3, 1, 0]), array([1, 3, 1, 0]), array([1, 3, 1, 0]), array([1, 3, 1, 0]), array([1, 3, 1, 0]), array([1, 3, 1, 0]), array([1, 3, 1, 0]), array([1, 3, 1, 0]), array([1, 3, 1, 0]), array([1, 3, 1, 0]), array([1, 3, 1, 0]), array([1, 3, 1, 0]), array([1, 3, 1, 1]), array([1, 3, 1, 0])]], [0.2614518014666809, 0, [array([1, 2, 2, 1]), array([1, 2, 2, 0]), array([1, 2, 2, 1]), array([1, 2, 2, 0]), array([1, 2, 2, 0]), array([1, 2, 2, 0]), array([1, 2, 2, 1]), array([1, 2, 2, 0]), array([1, 2, 2, 0]), array([1, 2, 2, 0]), array([1, 2, 2, 0]), array([1, 2, 2, 0]), array([1, 2, 2, 0]), array([1, 2, 2, 0]), array([1, 2, 2, 0]), array([1, 2, 2, 0]), array([1, 2, 2, 0]), array([1, 2, 2, 1]), array([1, 2, 2, 0]), array([1, 2, 2, 1]), array([1, 2, 2, 0]), array([1, 2, 2, 0]), array([1, 2, 2, 0]), array([1, 2, 2, 0]), array([1, 2, 2, 1]), array([1, 2, 2, 0]), array([1, 2, 2, 0]), array([1, 2, 2, 0]), array([1, 2, 2, 0]), array([1, 2, 2, 0]), array([1, 2, 2, 0]), array([1, 2, 2, 0]), array([1, 2, 2, 0]), array([1, 2, 2, 0]), array([1, 2, 2, 0]), array([1, 2, 2, 1]), array([1, 2, 2, 0]), array([1, 2, 2, 0]), array([1, 2, 2, 1]), array([1, 2, 2, 0]), array([1, 2, 2, 0]), array([1, 2, 2, 0]), array([1, 2, 2, 0]), array([1, 2, 2, 0]), array([1, 2, 2, 0]), array([1, 2, 2, 0]), array([1, 2, 2, 1]), array([1, 2, 2, 0]), array([1, 2, 2, 0]), array([1, 2, 2, 0]), array([1, 2, 2, 0]), array([1, 2, 2, 0]), array([1, 2, 2, 0]), array([1, 2, 2, 0]), array([1, 2, 2, 0]), array([1, 2, 2, 0]), array([1, 2, 2, 1]), array([1, 2, 2, 1]), array([1, 2, 2, 0]), array([1, 2, 2, 0]), array([1, 2, 2, 1]), array([1, 2, 2, 0]), array([1, 2, 2, 0]), array([1, 2, 2, 0]), array([1, 2, 2, 0]), array([1, 2, 2, 0]), array([1, 2, 2, 0]), array([1, 2, 2, 0]), array([1, 2, 2, 0]), array([1, 2, 2, 0]), array([1, 2, 2, 0]), array([1, 2, 2, 1]), array([1, 2, 2, 0]), array([1, 2, 2, 0]), array([1, 2, 2, 0]), array([1, 2, 2, 0]), array([1, 2, 2, 0]), array([1, 2, 2, 0]), array([1, 2, 2, 0]), array([1, 2, 2, 0]), array([1, 2, 2, 0]), array([1, 2, 2, 0]), array([1, 2, 2, 0]), array([1, 2, 2, 1]), array([1, 2, 2, 0]), array([1, 2, 2, 0]), array([1, 2, 2, 0]), array([1, 2, 2, 0]), array([1, 2, 2, 0]), array([1, 2, 2, 0]), array([1, 2, 2, 1]), array([1, 2, 2, 0]), array([1, 2, 2, 0]), array([1, 2, 2, 0]), array([1, 2, 2, 0]), array([1, 2, 2, 0]), array([1, 2, 2, 0])]], [0.22368102527589884, 0, [array([1, 3, 2, 0]), array([1, 3, 2, 0]), array([1, 3, 2, 0]), array([1, 3, 2, 0]), array([1, 3, 2, 0]), array([1, 3, 2, 0]), array([1, 3, 2, 0]), array([1, 3, 2, 0]), array([1, 3, 2, 0]), array([1, 3, 2, 0]), array([1, 3, 2, 0]), array([1, 3, 2, 0]), array([1, 3, 2, 0]), array([1, 3, 2, 0]), array([1, 3, 2, 1]), array([1, 3, 2, 0]), array([1, 3, 2, 0]), array([1, 3, 2, 0]), array([1, 3, 2, 0]), array([1, 3, 2, 1]), array([1, 3, 2, 0]), array([1, 3, 2, 0]), array([1, 3, 2, 0]), array([1, 3, 2, 0]), array([1, 3, 2, 0]), array([1, 3, 2, 0]), array([1, 3, 2, 0]), array([1, 3, 2, 0]), array([1, 3, 2, 0]), array([1, 3, 2, 0]), array([1, 3, 2, 0]), array([1, 3, 2, 0]), array([1, 3, 2, 1]), array([1, 3, 2, 0]), array([1, 3, 2, 0]), array([1, 3, 2, 0]), array([1, 3, 2, 0]), array([1, 3, 2, 1]), array([1, 3, 2, 0]), array([1, 3, 2, 0]), array([1, 3, 2, 0]), array([1, 3, 2, 1]), array([1, 3, 2, 0]), array([1, 3, 2, 0]), array([1, 3, 2, 0]), array([1, 3, 2, 0]), array([1, 3, 2, 0]), array([1, 3, 2, 0]), array([1, 3, 2, 0]), array([1, 3, 2, 0]), array([1, 3, 2, 0]), array([1, 3, 2, 0]), array([1, 3, 2, 1]), array([1, 3, 2, 0]), array([1, 3, 2, 0]), array([1, 3, 2, 0]), array([1, 3, 2, 0]), array([1, 3, 2, 0]), array([1, 3, 2, 0]), array([1, 3, 2, 0]), array([1, 3, 2, 0]), array([1, 3, 2, 0]), array([1, 3, 2, 0]), array([1, 3, 2, 0]), array([1, 3, 2, 1]), array([1, 3, 2, 0]), array([1, 3, 2, 0]), array([1, 3, 2, 0]), array([1, 3, 2, 1]), array([1, 3, 2, 0]), array([1, 3, 2, 0]), array([1, 3, 2, 0]), array([1, 3, 2, 0]), array([1, 3, 2, 0]), array([1, 3, 2, 0]), array([1, 3, 2, 0]), array([1, 3, 2, 0]), array([1, 3, 2, 1]), array([1, 3, 2, 0]), array([1, 3, 2, 1]), array([1, 3, 2, 1]), array([1, 3, 2, 0]), array([1, 3, 2, 0]), array([1, 3, 2, 1]), array([1, 3, 2, 1]), array([1, 3, 2, 0]), array([1, 3, 2, 0]), array([1, 3, 2, 0]), array([1, 3, 2, 0]), array([1, 3, 2, 0]), array([1, 3, 2, 0]), array([1, 3, 2, 0]), array([1, 3, 2, 0]), array([1, 3, 2, 0]), array([1, 3, 2, 0]), array([1, 3, 2, 0]), array([1, 3, 2, 1]), array([1, 3, 2, 1]), array([1, 3, 2, 0]), array([1, 3, 2, 0]), array([1, 3, 2, 0]), array([1, 3, 2, 0]), array([1, 3, 2, 0]), array([1, 3, 2, 0]), array([1, 3, 2, 0]), array([1, 3, 2, 0]), array([1, 3, 2, 0]), array([1, 3, 2, 0]), array([1, 3, 2, 0]), array([1, 3, 2, 0]), array([1, 3, 2, 0]), array([1, 3, 2, 1]), array([1, 3, 2, 0]), array([1, 3, 2, 0]), array([1, 3, 2, 1]), array([1, 3, 2, 0]), array([1, 3, 2, 0]), array([1, 3, 2, 0]), array([1, 3, 2, 0]), array([1, 3, 2, 0]), array([1, 3, 2, 1]), array([1, 3, 2, 0]), array([1, 3, 2, 0]), array([1, 3, 2, 0]), array([1, 3, 2, 1]), array([1, 3, 2, 0]), array([1, 3, 2, 0]), array([1, 3, 2, 0]), array([1, 3, 2, 1]), array([1, 3, 2, 0]), array([1, 3, 2, 0]), array([1, 3, 2, 0]), array([1, 3, 2, 0]), array([1, 3, 2, 0]), array([1, 3, 2, 0]), array([1, 3, 2, 0]), array([1, 3, 2, 0]), array([1, 3, 2, 0]), array([1, 3, 2, 0]), array([1, 3, 2, 0]), array([1, 3, 2, 0]), array([1, 3, 2, 1]), array([1, 3, 2, 0]), array([1, 3, 2, 0]), array([1, 3, 2, 0]), array([1, 3, 2, 0]), array([1, 3, 2, 0]), array([1, 3, 2, 0]), array([1, 3, 2, 0]), array([1, 3, 2, 1]), array([1, 3, 2, 0]), array([1, 3, 2, 0]), array([1, 3, 2, 0]), array([1, 3, 2, 0]), array([1, 3, 2, 0]), array([1, 3, 2, 0]), array([1, 3, 2, 0]), array([1, 3, 2, 0]), array([1, 3, 2, 0]), array([1, 3, 2, 0]), array([1, 3, 2, 0]), array([1, 3, 2, 1]), array([1, 3, 2, 0]), array([1, 3, 2, 0]), array([1, 3, 2, 1]), array([1, 3, 2, 0]), array([1, 3, 2, 0]), array([1, 3, 2, 0]), array([1, 3, 2, 0]), array([1, 3, 2, 0]), array([1, 3, 2, 0]), array([1, 3, 2, 0]), array([1, 3, 2, 0]), array([1, 3, 2, 0]), array([1, 3, 2, 0]), array([1, 3, 2, 0]), array([1, 3, 2, 0]), array([1, 3, 2, 0]), array([1, 3, 2, 0]), array([1, 3, 2, 0]), array([1, 3, 2, 0]), array([1, 3, 2, 0]), array([1, 3, 2, 0]), array([1, 3, 2, 0]), array([1, 3, 2, 0]), array([1, 3, 2, 1]), array([1, 3, 2, 0]), array([1, 3, 2, 0]), array([1, 3, 2, 0]), array([1, 3, 2, 0]), array([1, 3, 2, 0]), array([1, 3, 2, 0]), array([1, 3, 2, 1]), array([1, 3, 2, 0]), array([1, 3, 2, 0]), array([1, 3, 2, 0]), array([1, 3, 2, 0]), array([1, 3, 2, 0]), array([1, 3, 2, 0]), array([1, 3, 2, 0]), array([1, 3, 2, 0]), array([1, 3, 2, 0]), array([1, 3, 2, 1]), array([1, 3, 2, 0]), array([1, 3, 2, 0]), array([1, 3, 2, 0]), array([1, 3, 2, 0]), array([1, 3, 2, 0]), array([1, 3, 2, 0]), array([1, 3, 2, 0]), array([1, 3, 2, 0]), array([1, 3, 2, 0]), array([1, 3, 2, 0]), array([1, 3, 2, 0]), array([1, 3, 2, 0]), array([1, 3, 2, 1]), array([1, 3, 2, 0]), array([1, 3, 2, 1]), array([1, 3, 2, 0]), array([1, 3, 2, 0]), array([1, 3, 2, 0]), array([1, 3, 2, 0]), array([1, 3, 2, 0]), array([1, 3, 2, 0]), array([1, 3, 2, 0]), array([1, 3, 2, 0]), array([1, 3, 2, 0]), array([1, 3, 2, 0]), array([1, 3, 2, 0]), array([1, 3, 2, 0]), array([1, 3, 2, 0]), array([1, 3, 2, 0]), array([1, 3, 2, 1]), array([1, 3, 2, 0]), array([1, 3, 2, 1]), array([1, 3, 2, 0]), array([1, 3, 2, 0]), array([1, 3, 2, 0]), array([1, 3, 2, 0]), array([1, 3, 2, 0]), array([1, 3, 2, 0]), array([1, 3, 2, 1]), array([1, 3, 2, 0]), array([1, 3, 2, 0]), array([1, 3, 2, 0]), array([1, 3, 2, 0]), array([1, 3, 2, 0]), array([1, 3, 2, 0]), array([1, 3, 2, 1]), array([1, 3, 2, 0]), array([1, 3, 2, 0]), array([1, 3, 2, 0]), array([1, 3, 2, 0]), array([1, 3, 2, 0]), array([1, 3, 2, 0]), array([1, 3, 2, 0]), array([1, 3, 2, 0]), array([1, 3, 2, 1]), array([1, 3, 2, 0]), array([1, 3, 2, 0]), array([1, 3, 2, 0]), array([1, 3, 2, 0]), array([1, 3, 2, 0]), array([1, 3, 2, 0]), array([1, 3, 2, 0])]]]\n",
            "[0.22368102527589884, 0, [array([1, 3, 2, 0]), array([1, 3, 2, 0]), array([1, 3, 2, 0]), array([1, 3, 2, 0]), array([1, 3, 2, 0]), array([1, 3, 2, 0]), array([1, 3, 2, 0]), array([1, 3, 2, 0]), array([1, 3, 2, 0]), array([1, 3, 2, 0]), array([1, 3, 2, 0]), array([1, 3, 2, 0]), array([1, 3, 2, 0]), array([1, 3, 2, 0]), array([1, 3, 2, 1]), array([1, 3, 2, 0]), array([1, 3, 2, 0]), array([1, 3, 2, 0]), array([1, 3, 2, 0]), array([1, 3, 2, 1]), array([1, 3, 2, 0]), array([1, 3, 2, 0]), array([1, 3, 2, 0]), array([1, 3, 2, 0]), array([1, 3, 2, 0]), array([1, 3, 2, 0]), array([1, 3, 2, 0]), array([1, 3, 2, 0]), array([1, 3, 2, 0]), array([1, 3, 2, 0]), array([1, 3, 2, 0]), array([1, 3, 2, 0]), array([1, 3, 2, 1]), array([1, 3, 2, 0]), array([1, 3, 2, 0]), array([1, 3, 2, 0]), array([1, 3, 2, 0]), array([1, 3, 2, 1]), array([1, 3, 2, 0]), array([1, 3, 2, 0]), array([1, 3, 2, 0]), array([1, 3, 2, 1]), array([1, 3, 2, 0]), array([1, 3, 2, 0]), array([1, 3, 2, 0]), array([1, 3, 2, 0]), array([1, 3, 2, 0]), array([1, 3, 2, 0]), array([1, 3, 2, 0]), array([1, 3, 2, 0]), array([1, 3, 2, 0]), array([1, 3, 2, 0]), array([1, 3, 2, 1]), array([1, 3, 2, 0]), array([1, 3, 2, 0]), array([1, 3, 2, 0]), array([1, 3, 2, 0]), array([1, 3, 2, 0]), array([1, 3, 2, 0]), array([1, 3, 2, 0]), array([1, 3, 2, 0]), array([1, 3, 2, 0]), array([1, 3, 2, 0]), array([1, 3, 2, 0]), array([1, 3, 2, 1]), array([1, 3, 2, 0]), array([1, 3, 2, 0]), array([1, 3, 2, 0]), array([1, 3, 2, 1]), array([1, 3, 2, 0]), array([1, 3, 2, 0]), array([1, 3, 2, 0]), array([1, 3, 2, 0]), array([1, 3, 2, 0]), array([1, 3, 2, 0]), array([1, 3, 2, 0]), array([1, 3, 2, 0]), array([1, 3, 2, 1]), array([1, 3, 2, 0]), array([1, 3, 2, 1]), array([1, 3, 2, 1]), array([1, 3, 2, 0]), array([1, 3, 2, 0]), array([1, 3, 2, 1]), array([1, 3, 2, 1]), array([1, 3, 2, 0]), array([1, 3, 2, 0]), array([1, 3, 2, 0]), array([1, 3, 2, 0]), array([1, 3, 2, 0]), array([1, 3, 2, 0]), array([1, 3, 2, 0]), array([1, 3, 2, 0]), array([1, 3, 2, 0]), array([1, 3, 2, 0]), array([1, 3, 2, 0]), array([1, 3, 2, 1]), array([1, 3, 2, 1]), array([1, 3, 2, 0]), array([1, 3, 2, 0]), array([1, 3, 2, 0]), array([1, 3, 2, 0]), array([1, 3, 2, 0]), array([1, 3, 2, 0]), array([1, 3, 2, 0]), array([1, 3, 2, 0]), array([1, 3, 2, 0]), array([1, 3, 2, 0]), array([1, 3, 2, 0]), array([1, 3, 2, 0]), array([1, 3, 2, 0]), array([1, 3, 2, 1]), array([1, 3, 2, 0]), array([1, 3, 2, 0]), array([1, 3, 2, 1]), array([1, 3, 2, 0]), array([1, 3, 2, 0]), array([1, 3, 2, 0]), array([1, 3, 2, 0]), array([1, 3, 2, 0]), array([1, 3, 2, 1]), array([1, 3, 2, 0]), array([1, 3, 2, 0]), array([1, 3, 2, 0]), array([1, 3, 2, 1]), array([1, 3, 2, 0]), array([1, 3, 2, 0]), array([1, 3, 2, 0]), array([1, 3, 2, 1]), array([1, 3, 2, 0]), array([1, 3, 2, 0]), array([1, 3, 2, 0]), array([1, 3, 2, 0]), array([1, 3, 2, 0]), array([1, 3, 2, 0]), array([1, 3, 2, 0]), array([1, 3, 2, 0]), array([1, 3, 2, 0]), array([1, 3, 2, 0]), array([1, 3, 2, 0]), array([1, 3, 2, 0]), array([1, 3, 2, 1]), array([1, 3, 2, 0]), array([1, 3, 2, 0]), array([1, 3, 2, 0]), array([1, 3, 2, 0]), array([1, 3, 2, 0]), array([1, 3, 2, 0]), array([1, 3, 2, 0]), array([1, 3, 2, 1]), array([1, 3, 2, 0]), array([1, 3, 2, 0]), array([1, 3, 2, 0]), array([1, 3, 2, 0]), array([1, 3, 2, 0]), array([1, 3, 2, 0]), array([1, 3, 2, 0]), array([1, 3, 2, 0]), array([1, 3, 2, 0]), array([1, 3, 2, 0]), array([1, 3, 2, 0]), array([1, 3, 2, 1]), array([1, 3, 2, 0]), array([1, 3, 2, 0]), array([1, 3, 2, 1]), array([1, 3, 2, 0]), array([1, 3, 2, 0]), array([1, 3, 2, 0]), array([1, 3, 2, 0]), array([1, 3, 2, 0]), array([1, 3, 2, 0]), array([1, 3, 2, 0]), array([1, 3, 2, 0]), array([1, 3, 2, 0]), array([1, 3, 2, 0]), array([1, 3, 2, 0]), array([1, 3, 2, 0]), array([1, 3, 2, 0]), array([1, 3, 2, 0]), array([1, 3, 2, 0]), array([1, 3, 2, 0]), array([1, 3, 2, 0]), array([1, 3, 2, 0]), array([1, 3, 2, 0]), array([1, 3, 2, 0]), array([1, 3, 2, 1]), array([1, 3, 2, 0]), array([1, 3, 2, 0]), array([1, 3, 2, 0]), array([1, 3, 2, 0]), array([1, 3, 2, 0]), array([1, 3, 2, 0]), array([1, 3, 2, 1]), array([1, 3, 2, 0]), array([1, 3, 2, 0]), array([1, 3, 2, 0]), array([1, 3, 2, 0]), array([1, 3, 2, 0]), array([1, 3, 2, 0]), array([1, 3, 2, 0]), array([1, 3, 2, 0]), array([1, 3, 2, 0]), array([1, 3, 2, 1]), array([1, 3, 2, 0]), array([1, 3, 2, 0]), array([1, 3, 2, 0]), array([1, 3, 2, 0]), array([1, 3, 2, 0]), array([1, 3, 2, 0]), array([1, 3, 2, 0]), array([1, 3, 2, 0]), array([1, 3, 2, 0]), array([1, 3, 2, 0]), array([1, 3, 2, 0]), array([1, 3, 2, 0]), array([1, 3, 2, 1]), array([1, 3, 2, 0]), array([1, 3, 2, 1]), array([1, 3, 2, 0]), array([1, 3, 2, 0]), array([1, 3, 2, 0]), array([1, 3, 2, 0]), array([1, 3, 2, 0]), array([1, 3, 2, 0]), array([1, 3, 2, 0]), array([1, 3, 2, 0]), array([1, 3, 2, 0]), array([1, 3, 2, 0]), array([1, 3, 2, 0]), array([1, 3, 2, 0]), array([1, 3, 2, 0]), array([1, 3, 2, 0]), array([1, 3, 2, 1]), array([1, 3, 2, 0]), array([1, 3, 2, 1]), array([1, 3, 2, 0]), array([1, 3, 2, 0]), array([1, 3, 2, 0]), array([1, 3, 2, 0]), array([1, 3, 2, 0]), array([1, 3, 2, 0]), array([1, 3, 2, 1]), array([1, 3, 2, 0]), array([1, 3, 2, 0]), array([1, 3, 2, 0]), array([1, 3, 2, 0]), array([1, 3, 2, 0]), array([1, 3, 2, 0]), array([1, 3, 2, 1]), array([1, 3, 2, 0]), array([1, 3, 2, 0]), array([1, 3, 2, 0]), array([1, 3, 2, 0]), array([1, 3, 2, 0]), array([1, 3, 2, 0]), array([1, 3, 2, 0]), array([1, 3, 2, 0]), array([1, 3, 2, 1]), array([1, 3, 2, 0]), array([1, 3, 2, 0]), array([1, 3, 2, 0]), array([1, 3, 2, 0]), array([1, 3, 2, 0]), array([1, 3, 2, 0]), array([1, 3, 2, 0])]]\n"
          ],
          "name": "stdout"
        }
      ]
    },
    {
      "cell_type": "code",
      "metadata": {
        "id": "skRgolvPzu5p"
      },
      "source": [
        "#Question 1b\n",
        "#The attribute is a recursive tree, it prints it nicely\n",
        "def printDecisionTree(decisionTree):\n",
        "  S = '' #initialistion of what we print\n",
        "  depth = int(math.log2(len(decisionTree)+1)) #graph depth\n",
        "  for i in range(depth):\n",
        "    length = 2**i\n",
        "    for j in range (length): #We browse every node every levels\n",
        "      position = 2**i -1 +j\n",
        "      if decisionTree[position]!= [] :\n",
        "        #We label the type of node and add its level and feature\n",
        "        if (position==0):\n",
        "          S+= 'Root \\n'\n",
        "          S+= 'Level ' + str(i) + '\\n'\n",
        "          S+= 'Feature ' + str(decisionTree[position][1]) +'\\n'\n",
        "        elif (2*position >= len(decisionTree)-1):\n",
        "          S+= 'Leaf \\n'\n",
        "          S+= 'Level ' + str(i) + '\\n'\n",
        "          S+= 'Class ' + str(decisionTree[position][1]) + '\\n'\n",
        "        elif (decisionTree[2*position +1]==[]):\n",
        "          S+= 'Leaf \\n'\n",
        "          S+= 'Level ' + str(i) + '\\n'\n",
        "          S+= 'Class ' + str(decisionTree[position][1]) + '\\n'\n",
        "        else : \n",
        "          S+= 'Intermediate \\n'\n",
        "          S+= 'Level ' + str(i) + '\\n'\n",
        "          S+= 'Feature ' + str(decisionTree[position][1]) +'\\n'\n",
        "        #we add the gini   \n",
        "        S+= 'Gini '+ str(decisionTree[position][0]) +'\\n' \n",
        "\n",
        "        condition = False #determines if we haven't finish this level\n",
        "        for k in range (j+1,length):\n",
        "          if decisionTree[2**i-1+k]!= []:\n",
        "            condition = True\n",
        "        if (condition): #If we haven't\n",
        "          S+= '*****\\n'\n",
        "        else :\n",
        "          S += '\\n'\n",
        "  print (S)"
      ],
      "execution_count": null,
      "outputs": []
    },
    {
      "cell_type": "code",
      "metadata": {
        "id": "MjouK-Njz_YJ",
        "colab": {
          "base_uri": "https://localhost:8080/"
        },
        "outputId": "709e93d3-279f-49dd-a875-8f4326bc4713"
      },
      "source": [
        "#Test \n",
        "printDecisionTree(dT)"
      ],
      "execution_count": null,
      "outputs": [
        {
          "output_type": "stream",
          "text": [
            "Root \n",
            "Level 0\n",
            "Feature Sex<1\n",
            "Gini 0.4723650263627057\n",
            "\n",
            "Intermediate \n",
            "Level 1\n",
            "Feature Pclass<3\n",
            "Gini 0.384430473372781\n",
            "*****\n",
            "Intermediate \n",
            "Level 1\n",
            "Feature Pclass<2\n",
            "Gini 0.3064437162277842\n",
            "\n",
            "Intermediate \n",
            "Level 2\n",
            "Feature Embarked<2\n",
            "Gini 0.10140306122448985\n",
            "*****\n",
            "Intermediate \n",
            "Level 2\n",
            "Feature Embarked<2\n",
            "Gini 0.5\n",
            "*****\n",
            "Intermediate \n",
            "Level 2\n",
            "Feature Embarked<1\n",
            "Gini 0.46560064498790643\n",
            "*****\n",
            "Intermediate \n",
            "Level 2\n",
            "Feature Embarked<1\n",
            "Gini 0.24174858108924058\n",
            "\n",
            "Intermediate \n",
            "Level 3\n",
            "Feature Pclass<2\n",
            "Gini 0.03702385190459241\n",
            "*****\n",
            "Intermediate \n",
            "Level 3\n",
            "Feature Pclass<2\n",
            "Gini 0.12945179584120986\n",
            "*****\n",
            "Intermediate \n",
            "Level 3\n",
            "Feature Embarked<1\n",
            "Gini 0.4228316326530613\n",
            "*****\n",
            "Leaf \n",
            "Level 3\n",
            "Class 0\n",
            "Gini 0.46875\n",
            "*****\n",
            "Leaf \n",
            "Level 3\n",
            "Class 0\n",
            "Gini 0.48185941043083896\n",
            "*****\n",
            "Intermediate \n",
            "Level 3\n",
            "Feature Embarked<2\n",
            "Gini 0.455\n",
            "*****\n",
            "Intermediate \n",
            "Level 3\n",
            "Feature Pclass<3\n",
            "Gini 0.3503025987896047\n",
            "*****\n",
            "Intermediate \n",
            "Level 3\n",
            "Feature Embarked<2\n",
            "Gini 0.22524194945669662\n",
            "\n",
            "Intermediate \n",
            "Level 4\n",
            "Feature Embarked<1\n",
            "Gini 0.04442148760330576\n",
            "*****\n",
            "Leaf \n",
            "Level 4\n",
            "Class 1\n",
            "Gini 0\n",
            "*****\n",
            "Leaf \n",
            "Level 4\n",
            "Class 1\n",
            "Gini 0.079861111111111\n",
            "*****\n",
            "Leaf \n",
            "Level 4\n",
            "Class 1\n",
            "Gini 0.16306527066161736\n",
            "*****\n",
            "Leaf \n",
            "Level 4\n",
            "Class 1\n",
            "Gini 0.4536862003780718\n",
            "*****\n",
            "Leaf \n",
            "Level 4\n",
            "Class 1\n",
            "Gini 0.39669421487603307\n",
            "*****\n",
            "Leaf \n",
            "Level 4\n",
            "Class 0\n",
            "Gini 0\n",
            "*****\n",
            "Leaf \n",
            "Level 4\n",
            "Class 0\n",
            "Gini 0.4576189713186989\n",
            "*****\n",
            "Leaf \n",
            "Level 4\n",
            "Class 0\n",
            "Gini 0.31999999999999984\n",
            "*****\n",
            "Leaf \n",
            "Level 4\n",
            "Class 0\n",
            "Gini 0.3569497025419146\n",
            "*****\n",
            "Intermediate \n",
            "Level 4\n",
            "Feature Pclass<3\n",
            "Gini 0.13874999999999993\n",
            "*****\n",
            "Intermediate \n",
            "Level 4\n",
            "Feature Pclass<3\n",
            "Gini 0.23407405146363058\n",
            "\n",
            "Leaf \n",
            "Level 5\n",
            "Class 1\n",
            "Gini 0.045429962141698275\n",
            "*****\n",
            "Leaf \n",
            "Level 5\n",
            "Class 1\n",
            "Gini 0\n",
            "*****\n",
            "Leaf \n",
            "Level 5\n",
            "Class 0\n",
            "Gini 0\n",
            "*****\n",
            "Leaf \n",
            "Level 5\n",
            "Class 0\n",
            "Gini 0.14201183431952646\n",
            "*****\n",
            "Leaf \n",
            "Level 5\n",
            "Class 0\n",
            "Gini 0.2614518014666809\n",
            "*****\n",
            "Leaf \n",
            "Level 5\n",
            "Class 0\n",
            "Gini 0.22368102527589884\n",
            "\n",
            "\n"
          ],
          "name": "stdout"
        }
      ]
    },
    {
      "cell_type": "code",
      "metadata": {
        "id": "iCIdarXAU7gE"
      },
      "source": [
        "#Question 2\n",
        "#Browse the linearized tree to compute the generalization error\n",
        "def generalizationError(dT, alpha):\n",
        "  complexity = 0\n",
        "  error = 0\n",
        "  total = 0 \n",
        "  for i in range(len(dT)): \n",
        "    if len(dT[i])==3: #it is a leaf\n",
        "      complexity += 1 \n",
        "      D = dT[i][2]\n",
        "      total += len(D)\n",
        "      survive = dT[i][1] #the class\n",
        "      for i in D:\n",
        "        if i[3]!= survive: #the class is different, it is an error\n",
        "          error+=1\n",
        "  return (error + alpha*complexity)"
      ],
      "execution_count": null,
      "outputs": []
    },
    {
      "cell_type": "code",
      "metadata": {
        "id": "Jj1JfoMxI1h4",
        "colab": {
          "base_uri": "https://localhost:8080/"
        },
        "outputId": "59dc26c3-bab4-4425-88bf-916afe14eeed"
      },
      "source": [
        "generalizationError(dT,0.5)"
      ],
      "execution_count": null,
      "outputs": [
        {
          "output_type": "execute_result",
          "data": {
            "text/plain": [
              "176.5"
            ]
          },
          "metadata": {
            "tags": []
          },
          "execution_count": 253
        }
      ]
    },
    {
      "cell_type": "code",
      "metadata": {
        "id": "rNRMOw5ams9r"
      },
      "source": [
        "# question 3\n",
        "\n",
        "def joinLeaf(PruneTree,n,minNum):\n",
        "\n",
        "  if len(PruneTree[n*2+1]) == 2:\n",
        "    joinLeaf(PruneTree,n*2+1,minNum)\n",
        "  \n",
        "  if len(PruneTree[n*2+2]) == 2:\n",
        "    joinLeaf(PruneTree,n*2+2,minNum)\n",
        "\n",
        "  if len(PruneTree[n*2+1]) == 3 and len(PruneTree[n*2+2]) == 3:\n",
        "    leaf1, leaf2 = PruneTree[n*2+1], PruneTree[n*2+2]\n",
        "    newArray = np.concatenate((leaf1[-1],leaf2[-1]))\n",
        "    PruneTree[n*2+1], PruneTree[n*2+2]=[], []\n",
        "    PruneTree[n].append(newArray)\n",
        "\n",
        "    #Its class value is c if all records have class c\n",
        "    classbool = newArray[0][3]\n",
        "    samebool = True\n",
        "    for array in newArray:\n",
        "      if array[3] != classbool:\n",
        "        samebool = False\n",
        "    if samebool:\n",
        "      PruneTree[n][1] = classbool\n",
        "      \n",
        "      #The default class if the number of records is < minNum (default class: 0)\n",
        "    elif len(newArray)<minNum:\n",
        "      PruneTree[n][1] = 0\n",
        "      \n",
        "      #Counting the occurences of 1 and 0:\n",
        "    else:\n",
        "      S = sum(newArray[i][3] for i  in range(len(newArray)))/len(newArray)\n",
        "\n",
        "      #There is a tie between the default and the majority class => default class\n",
        "      #otherwise it is determined by majority.\n",
        "      if S<=0.5:\n",
        "        PruneTree[n][1]=0\n",
        "      else:\n",
        "        PruneTree[n][1]=1\n",
        "\n",
        "      #We calculate the new gini\n",
        "    PruneTree[n][0]=gini2(newArray)"
      ],
      "execution_count": null,
      "outputs": []
    },
    {
      "cell_type": "code",
      "metadata": {
        "id": "Jvc1tN3geYXV"
      },
      "source": [
        "def pruneTree(DecisionTree,alpha,minNum):\n",
        "  PruneTree = copy.deepcopy(DecisionTree)\n",
        "  FinalTree = copy.deepcopy(DecisionTree)\n",
        "  minGE = generalizationError(FinalTree,alpha)\n",
        "  for i in range(len(DecisionTree)-1,0,-1):\n",
        "    #if it's not a leaf and it's a intermediate\n",
        "    if len(PruneTree[i]) == 2:\n",
        "      joinLeaf(PruneTree,i,minNum)\n",
        "    if generalizationError(PruneTree,alpha) <= minGE:\n",
        "      FinalTree = copy.deepcopy(PruneTree)\n",
        "      minGE = generalizationError(PruneTree,alpha)\n",
        "    PruneTree = copy.deepcopy(FinalTree)\n",
        "  return FinalTree"
      ],
      "execution_count": null,
      "outputs": []
    },
    {
      "cell_type": "code",
      "metadata": {
        "id": "074VHq6wlFno",
        "colab": {
          "base_uri": "https://localhost:8080/"
        },
        "outputId": "452135fa-adb2-407c-8fce-96e9873bbf4b"
      },
      "source": [
        "pT = pruneTree(dT,0.5,5)\n",
        "printDecisionTree(pT)"
      ],
      "execution_count": null,
      "outputs": [
        {
          "output_type": "stream",
          "text": [
            "Root \n",
            "Level 0\n",
            "Feature Sex<1\n",
            "Gini 0.4723650263627057\n",
            "\n",
            "Intermediate \n",
            "Level 1\n",
            "Feature Pclass<3\n",
            "Gini 0.384430473372781\n",
            "*****\n",
            "Leaf \n",
            "Level 1\n",
            "Class 0\n",
            "Gini 0.3064437162277842\n",
            "\n",
            "Leaf \n",
            "Level 2\n",
            "Class 1\n",
            "Gini 0.10140306122448985\n",
            "*****\n",
            "Intermediate \n",
            "Level 2\n",
            "Feature Embarked<2\n",
            "Gini 0.5\n",
            "\n",
            "Leaf \n",
            "Level 3\n",
            "Class 1\n",
            "Gini 0.4228316326530613\n",
            "*****\n",
            "Leaf \n",
            "Level 3\n",
            "Class 0\n",
            "Gini 0.46875\n",
            "\n",
            "\n"
          ],
          "name": "stdout"
        }
      ]
    },
    {
      "cell_type": "code",
      "metadata": {
        "id": "eNT5ikdwXHmd",
        "colab": {
          "base_uri": "https://localhost:8080/"
        },
        "outputId": "79c7c32d-26ed-49fe-db43-9335f23200f4"
      },
      "source": [
        "generalizationError(pT,0.5)"
      ],
      "execution_count": null,
      "outputs": [
        {
          "output_type": "execute_result",
          "data": {
            "text/plain": [
              "170.0"
            ]
          },
          "metadata": {
            "tags": []
          },
          "execution_count": 347
        }
      ]
    }
  ]
}