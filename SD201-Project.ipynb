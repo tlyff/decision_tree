{
 "cells": [
  {
   "cell_type": "markdown",
   "metadata": {},
   "source": [
    "# Project on Decision Trees"
   ]
  },
  {
   "cell_type": "code",
   "execution_count": 41,
   "metadata": {},
   "outputs": [],
   "source": [
    "import numpy as np\n",
    "import math"
   ]
  },
  {
   "cell_type": "markdown",
   "metadata": {},
   "source": [
    "## Question 1"
   ]
  },
  {
   "cell_type": "code",
   "execution_count": 42,
   "metadata": {},
   "outputs": [],
   "source": [
    "def dataFromFile(f):\n",
    "    dataFile = open(f,'r')\n",
    "    lines = dataFile.readlines()\n",
    "    records = []\n",
    "    attributes = [[],[],[]]\n",
    "    types = lines[0].split(',')\n",
    "    mot = types[-1].strip('\\n')\n",
    "    types[-1] = mot\n",
    "    types = np.array(types)\n",
    "    for line in lines[1:]:\n",
    "        current = []\n",
    "        cutLine = line.split(',')\n",
    "        attributes[0].append(int(cutLine[0]))\n",
    "        attributes[1].append(int(cutLine[1]))\n",
    "        attributes[2].append(int(cutLine[2]))\n",
    "        for i in cutLine:\n",
    "            current.append(int(i))\n",
    "        records.append(current)\n",
    "    for i in range(0,3):\n",
    "        dicattribute = dict.fromkeys(attributes[i])\n",
    "        attributes[i] = list(dicattribute)\n",
    "        attributes[i] = sorted(attributes[i])\n",
    "    records = np.array(records)\n",
    "    dataFile.close()\n",
    "    return records, attributes, types"
   ]
  },
  {
   "cell_type": "code",
   "execution_count": 43,
   "metadata": {},
   "outputs": [
    {
     "name": "stdout",
     "output_type": "stream",
     "text": [
      "[[1 3 2 0]\n",
      " [0 1 0 1]\n",
      " [0 3 2 1]\n",
      " ...\n",
      " [0 3 2 0]\n",
      " [1 1 0 1]\n",
      " [1 3 1 0]] [[0, 1], [1, 2, 3], [0, 1, 2]] ['Sex' 'Pclass' 'Embarked' 'Survived']\n"
     ]
    }
   ],
   "source": [
    "records,attributes,types = dataFromFile('/Users/Tiffany/Desktop/telecom/2A/SD201/TP3/LabDecisionTreeSD201/data/data.csv')\n",
    "print(records, attributes,types)"
   ]
  },
  {
   "cell_type": "markdown",
   "metadata": {},
   "source": [
    "### GINI"
   ]
  },
  {
   "cell_type": "code",
   "execution_count": 44,
   "metadata": {},
   "outputs": [],
   "source": [
    "def gini(group):\n",
    "    total = len(group)\n",
    "    C1=sum(group)\n",
    "    C2=total - C1\n",
    "    g = 1 - (C1/total)**2 - (C2/total)**2\n",
    "    return g"
   ]
  },
  {
   "cell_type": "code",
   "execution_count": 45,
   "metadata": {},
   "outputs": [],
   "source": [
    "def gini2(D):\n",
    "    group = []\n",
    "    for line in D:\n",
    "        group.append(line[3])\n",
    "    return gini(group)"
   ]
  },
  {
   "cell_type": "code",
   "execution_count": 46,
   "metadata": {},
   "outputs": [],
   "source": [
    "def splitData(records,columnNb,splitValue):\n",
    "    recordSplit = [[],[]]\n",
    "    for line in records:\n",
    "        if line[columnNb]<splitValue:\n",
    "            recordSplit[0].append(line)\n",
    "        else:\n",
    "            recordSplit[1].append(line)\n",
    "    return recordSplit"
   ]
  },
  {
   "cell_type": "code",
   "execution_count": 47,
   "metadata": {},
   "outputs": [],
   "source": [
    "def giniSplit(records, attributes, columnNb):\n",
    "    dataToSplit = [[],[]]\n",
    "    possibleValues = attributes[columnNb]\n",
    "    for line in records:\n",
    "        dataToSplit[0].append(line[columnNb])\n",
    "        dataToSplit[1].append(line[3]) #survived or not: 1 or 0\n",
    "    if len(possibleValues)>2:\n",
    "        giniSplitList = []\n",
    "        for i in range(len(possibleValues)-1):\n",
    "            res1 = []\n",
    "            res2 = []\n",
    "            for j in range(len(dataToSplit[0])):\n",
    "                if  dataToSplit[0][j] <= possibleValues[i]:\n",
    "                    res1.append(dataToSplit[1][j])\n",
    "                else:\n",
    "                    res2.append(dataToSplit[1][j])\n",
    "            gini1 = gini(res1)\n",
    "            gini2 = gini(res2)\n",
    "            giniSp = (gini1*len(res1)/(len(res2)+len(res1)))+(gini2*len(res2)/(len(res2)+len(res1)))\n",
    "            giniSplitList.append(giniSp)\n",
    "        indexValue = giniSplitList.index(min(giniSplitList))\n",
    "        splitValue = possibleValues[indexValue]\n",
    "        recordSplit = splitData(records,columnNb,splitValue)\n",
    "    else:\n",
    "        splitValue = possibleValues[0]\n",
    "        recordSplit = splitData(records,columnNb,splitValue)\n",
    "    return recordSplit, splitValue"
   ]
  },
  {
   "cell_type": "markdown",
   "metadata": {},
   "source": [
    "### DECISION TREE CONSTRUCTION"
   ]
  },
  {
   "cell_type": "code",
   "execution_count": 48,
   "metadata": {},
   "outputs": [],
   "source": [
    "#From a file, we import data and launch the recursive function\n",
    "def BuildDecisionTree(f, minNum):\n",
    "    D,  A, names= dataFromFile(f)\n",
    "    return Build(D,A, minNum,0, names)"
   ]
  },
  {
   "cell_type": "code",
   "execution_count": 56,
   "metadata": {},
   "outputs": [],
   "source": [
    "#Recursive fonction to create the DecisionTree\n",
    "def Build(D, A, minNum, v, names):\n",
    "    classBool = D[0][3]\n",
    "    print(\"ok\")\n",
    "    sameBool = True\n",
    "    s = 0\n",
    "    DGini = []\n",
    "    for i in D:\n",
    "        if i[3] != classBool:\n",
    "            sameBool = False\n",
    "        s += i[3]\n",
    "    if sameBool == True : #if the all surviv\n",
    "        return [0, classBool, D]\n",
    "    elif len(D) < minNum or v>2:\n",
    "        g = gini2(D)\n",
    "        if s < len(D) - s : #on a plus de 0 que de 1\n",
    "            return [g, 0, D]\n",
    "        else : \n",
    "            return [g, 1, D]\n",
    "    else : \n",
    "        g = gini2(D)\n",
    "        recordSplit, splitValue = giniSplit(D,A,v)\n",
    "        D1 = recordSplit[0]\n",
    "        D2 = recordSplit[1]\n",
    "        return [g, names[v] +'<='+ str(splitValue), Build(D1, A, minNum, v+1,names), Build(D2, A, minNum, v+1,names)]"
   ]
  },
  {
   "cell_type": "code",
   "execution_count": 57,
   "metadata": {},
   "outputs": [
    {
     "name": "stdout",
     "output_type": "stream",
     "text": [
      "ok\n"
     ]
    },
    {
     "ename": "IndexError",
     "evalue": "list index out of range",
     "output_type": "error",
     "traceback": [
      "\u001b[0;31m---------------------------------------------------------------------------\u001b[0m",
      "\u001b[0;31mIndexError\u001b[0m                                Traceback (most recent call last)",
      "\u001b[0;32m<ipython-input-57-38cc874ebbe5>\u001b[0m in \u001b[0;36m<module>\u001b[0;34m\u001b[0m\n\u001b[0;32m----> 1\u001b[0;31m \u001b[0mBuildDecisionTree\u001b[0m\u001b[0;34m(\u001b[0m\u001b[0;34m'/Users/Tiffany/Desktop/telecom/2A/SD201/TP3/LabDecisionTreeSD201/data/data.csv'\u001b[0m\u001b[0;34m,\u001b[0m\u001b[0;36m20\u001b[0m\u001b[0;34m)\u001b[0m\u001b[0;34m\u001b[0m\u001b[0;34m\u001b[0m\u001b[0m\n\u001b[0m",
      "\u001b[0;32m<ipython-input-48-6af07a8390ba>\u001b[0m in \u001b[0;36mBuildDecisionTree\u001b[0;34m(f, minNum)\u001b[0m\n\u001b[1;32m      2\u001b[0m \u001b[0;32mdef\u001b[0m \u001b[0mBuildDecisionTree\u001b[0m\u001b[0;34m(\u001b[0m\u001b[0mf\u001b[0m\u001b[0;34m,\u001b[0m \u001b[0mminNum\u001b[0m\u001b[0;34m)\u001b[0m\u001b[0;34m:\u001b[0m\u001b[0;34m\u001b[0m\u001b[0;34m\u001b[0m\u001b[0m\n\u001b[1;32m      3\u001b[0m     \u001b[0mD\u001b[0m\u001b[0;34m,\u001b[0m  \u001b[0mA\u001b[0m\u001b[0;34m,\u001b[0m \u001b[0mnames\u001b[0m\u001b[0;34m=\u001b[0m \u001b[0mdataFromFile\u001b[0m\u001b[0;34m(\u001b[0m\u001b[0mf\u001b[0m\u001b[0;34m)\u001b[0m\u001b[0;34m\u001b[0m\u001b[0;34m\u001b[0m\u001b[0m\n\u001b[0;32m----> 4\u001b[0;31m     \u001b[0;32mreturn\u001b[0m \u001b[0mBuild\u001b[0m\u001b[0;34m(\u001b[0m\u001b[0mD\u001b[0m\u001b[0;34m,\u001b[0m\u001b[0mA\u001b[0m\u001b[0;34m,\u001b[0m \u001b[0mminNum\u001b[0m\u001b[0;34m,\u001b[0m\u001b[0;36m0\u001b[0m\u001b[0;34m,\u001b[0m \u001b[0mnames\u001b[0m\u001b[0;34m)\u001b[0m\u001b[0;34m\u001b[0m\u001b[0;34m\u001b[0m\u001b[0m\n\u001b[0m",
      "\u001b[0;32m<ipython-input-56-4d5f3aa1c0c9>\u001b[0m in \u001b[0;36mBuild\u001b[0;34m(D, A, minNum, v, names)\u001b[0m\n\u001b[1;32m     23\u001b[0m         \u001b[0mD1\u001b[0m \u001b[0;34m=\u001b[0m \u001b[0mrecordSplit\u001b[0m\u001b[0;34m[\u001b[0m\u001b[0;36m0\u001b[0m\u001b[0;34m]\u001b[0m\u001b[0;34m\u001b[0m\u001b[0;34m\u001b[0m\u001b[0m\n\u001b[1;32m     24\u001b[0m         \u001b[0mD2\u001b[0m \u001b[0;34m=\u001b[0m \u001b[0mrecordSplit\u001b[0m\u001b[0;34m[\u001b[0m\u001b[0;36m1\u001b[0m\u001b[0;34m]\u001b[0m\u001b[0;34m\u001b[0m\u001b[0;34m\u001b[0m\u001b[0m\n\u001b[0;32m---> 25\u001b[0;31m         \u001b[0;32mreturn\u001b[0m \u001b[0;34m[\u001b[0m\u001b[0mg\u001b[0m\u001b[0;34m,\u001b[0m \u001b[0mnames\u001b[0m\u001b[0;34m[\u001b[0m\u001b[0mv\u001b[0m\u001b[0;34m]\u001b[0m \u001b[0;34m+\u001b[0m\u001b[0;34m'<='\u001b[0m\u001b[0;34m+\u001b[0m \u001b[0mstr\u001b[0m\u001b[0;34m(\u001b[0m\u001b[0msplitValue\u001b[0m\u001b[0;34m)\u001b[0m\u001b[0;34m,\u001b[0m \u001b[0mBuild\u001b[0m\u001b[0;34m(\u001b[0m\u001b[0mD1\u001b[0m\u001b[0;34m,\u001b[0m \u001b[0mA\u001b[0m\u001b[0;34m,\u001b[0m \u001b[0mminNum\u001b[0m\u001b[0;34m,\u001b[0m \u001b[0mv\u001b[0m\u001b[0;34m+\u001b[0m\u001b[0;36m1\u001b[0m\u001b[0;34m,\u001b[0m\u001b[0mnames\u001b[0m\u001b[0;34m)\u001b[0m\u001b[0;34m,\u001b[0m \u001b[0mBuild\u001b[0m\u001b[0;34m(\u001b[0m\u001b[0mD2\u001b[0m\u001b[0;34m,\u001b[0m \u001b[0mA\u001b[0m\u001b[0;34m,\u001b[0m \u001b[0mminNum\u001b[0m\u001b[0;34m,\u001b[0m \u001b[0mv\u001b[0m\u001b[0;34m+\u001b[0m\u001b[0;36m1\u001b[0m\u001b[0;34m,\u001b[0m\u001b[0mnames\u001b[0m\u001b[0;34m)\u001b[0m\u001b[0;34m]\u001b[0m\u001b[0;34m\u001b[0m\u001b[0;34m\u001b[0m\u001b[0m\n\u001b[0m",
      "\u001b[0;32m<ipython-input-56-4d5f3aa1c0c9>\u001b[0m in \u001b[0;36mBuild\u001b[0;34m(D, A, minNum, v, names)\u001b[0m\n\u001b[1;32m      1\u001b[0m \u001b[0;31m#Recursive fonction to create the DecisionTree\u001b[0m\u001b[0;34m\u001b[0m\u001b[0;34m\u001b[0m\u001b[0;34m\u001b[0m\u001b[0m\n\u001b[1;32m      2\u001b[0m \u001b[0;32mdef\u001b[0m \u001b[0mBuild\u001b[0m\u001b[0;34m(\u001b[0m\u001b[0mD\u001b[0m\u001b[0;34m,\u001b[0m \u001b[0mA\u001b[0m\u001b[0;34m,\u001b[0m \u001b[0mminNum\u001b[0m\u001b[0;34m,\u001b[0m \u001b[0mv\u001b[0m\u001b[0;34m,\u001b[0m \u001b[0mnames\u001b[0m\u001b[0;34m)\u001b[0m\u001b[0;34m:\u001b[0m\u001b[0;34m\u001b[0m\u001b[0;34m\u001b[0m\u001b[0m\n\u001b[0;32m----> 3\u001b[0;31m     \u001b[0mclassBool\u001b[0m \u001b[0;34m=\u001b[0m \u001b[0mD\u001b[0m\u001b[0;34m[\u001b[0m\u001b[0;36m0\u001b[0m\u001b[0;34m]\u001b[0m\u001b[0;34m[\u001b[0m\u001b[0;36m3\u001b[0m\u001b[0;34m]\u001b[0m\u001b[0;34m\u001b[0m\u001b[0;34m\u001b[0m\u001b[0m\n\u001b[0m\u001b[1;32m      4\u001b[0m     \u001b[0mprint\u001b[0m\u001b[0;34m(\u001b[0m\u001b[0;34m\"ok\"\u001b[0m\u001b[0;34m)\u001b[0m\u001b[0;34m\u001b[0m\u001b[0;34m\u001b[0m\u001b[0m\n\u001b[1;32m      5\u001b[0m     \u001b[0msameBool\u001b[0m \u001b[0;34m=\u001b[0m \u001b[0;32mTrue\u001b[0m\u001b[0;34m\u001b[0m\u001b[0;34m\u001b[0m\u001b[0m\n",
      "\u001b[0;31mIndexError\u001b[0m: list index out of range"
     ]
    }
   ],
   "source": [
    "BuildDecisionTree('/Users/Tiffany/Desktop/telecom/2A/SD201/TP3/LabDecisionTreeSD201/data/data.csv',20)"
   ]
  },
  {
   "cell_type": "code",
   "execution_count": 30,
   "metadata": {},
   "outputs": [
    {
     "name": "stdout",
     "output_type": "stream",
     "text": [
      "(array([[1, 3, 2, 0],\n",
      "       [0, 1, 0, 1],\n",
      "       [0, 3, 2, 1],\n",
      "       ...,\n",
      "       [0, 3, 2, 0],\n",
      "       [1, 1, 0, 1],\n",
      "       [1, 3, 1, 0]]), [[0, 1], [1, 2, 3], [0, 1, 2]], array(['Sex', 'Pclass', 'Embarked', 'Survived'], dtype='<U8'))\n"
     ]
    },
    {
     "ename": "IndexError",
     "evalue": "list index out of range",
     "output_type": "error",
     "traceback": [
      "\u001b[0;31m---------------------------------------------------------------------------\u001b[0m",
      "\u001b[0;31mIndexError\u001b[0m                                Traceback (most recent call last)",
      "\u001b[0;32m<ipython-input-30-5186dd4afba0>\u001b[0m in \u001b[0;36m<module>\u001b[0;34m\u001b[0m\n\u001b[1;32m      1\u001b[0m \u001b[0;31m#Test\u001b[0m\u001b[0;34m\u001b[0m\u001b[0;34m\u001b[0m\u001b[0;34m\u001b[0m\u001b[0m\n\u001b[1;32m      2\u001b[0m \u001b[0mprint\u001b[0m\u001b[0;34m(\u001b[0m\u001b[0mdataFromFile\u001b[0m\u001b[0;34m(\u001b[0m\u001b[0;34m'/Users/Tiffany/Desktop/telecom/2A/SD201/TP3/LabDecisionTreeSD201/data/data.csv'\u001b[0m\u001b[0;34m)\u001b[0m\u001b[0;34m)\u001b[0m\u001b[0;34m\u001b[0m\u001b[0;34m\u001b[0m\u001b[0m\n\u001b[0;32m----> 3\u001b[0;31m \u001b[0mdT\u001b[0m \u001b[0;34m=\u001b[0m \u001b[0mBuildDecisionTree\u001b[0m\u001b[0;34m(\u001b[0m\u001b[0;34m'/Users/Tiffany/Desktop/telecom/2A/SD201/TP3/LabDecisionTreeSD201/data/data.csv'\u001b[0m\u001b[0;34m,\u001b[0m\u001b[0;36m20\u001b[0m\u001b[0;34m)\u001b[0m\u001b[0;34m\u001b[0m\u001b[0;34m\u001b[0m\u001b[0m\n\u001b[0m\u001b[1;32m      4\u001b[0m \u001b[0mprint\u001b[0m\u001b[0;34m(\u001b[0m\u001b[0mdT\u001b[0m\u001b[0;34m)\u001b[0m\u001b[0;34m\u001b[0m\u001b[0;34m\u001b[0m\u001b[0m\n",
      "\u001b[0;32m<ipython-input-25-6af07a8390ba>\u001b[0m in \u001b[0;36mBuildDecisionTree\u001b[0;34m(f, minNum)\u001b[0m\n\u001b[1;32m      2\u001b[0m \u001b[0;32mdef\u001b[0m \u001b[0mBuildDecisionTree\u001b[0m\u001b[0;34m(\u001b[0m\u001b[0mf\u001b[0m\u001b[0;34m,\u001b[0m \u001b[0mminNum\u001b[0m\u001b[0;34m)\u001b[0m\u001b[0;34m:\u001b[0m\u001b[0;34m\u001b[0m\u001b[0;34m\u001b[0m\u001b[0m\n\u001b[1;32m      3\u001b[0m     \u001b[0mD\u001b[0m\u001b[0;34m,\u001b[0m  \u001b[0mA\u001b[0m\u001b[0;34m,\u001b[0m \u001b[0mnames\u001b[0m\u001b[0;34m=\u001b[0m \u001b[0mdataFromFile\u001b[0m\u001b[0;34m(\u001b[0m\u001b[0mf\u001b[0m\u001b[0;34m)\u001b[0m\u001b[0;34m\u001b[0m\u001b[0;34m\u001b[0m\u001b[0m\n\u001b[0;32m----> 4\u001b[0;31m     \u001b[0;32mreturn\u001b[0m \u001b[0mBuild\u001b[0m\u001b[0;34m(\u001b[0m\u001b[0mD\u001b[0m\u001b[0;34m,\u001b[0m\u001b[0mA\u001b[0m\u001b[0;34m,\u001b[0m \u001b[0mminNum\u001b[0m\u001b[0;34m,\u001b[0m\u001b[0;36m0\u001b[0m\u001b[0;34m,\u001b[0m \u001b[0mnames\u001b[0m\u001b[0;34m)\u001b[0m\u001b[0;34m\u001b[0m\u001b[0;34m\u001b[0m\u001b[0m\n\u001b[0m",
      "\u001b[0;32m<ipython-input-28-1bef9ce80d18>\u001b[0m in \u001b[0;36mBuild\u001b[0;34m(D, A, minNum, v, names)\u001b[0m\n\u001b[1;32m     22\u001b[0m         \u001b[0mD1\u001b[0m \u001b[0;34m=\u001b[0m \u001b[0mrecordSplit\u001b[0m\u001b[0;34m[\u001b[0m\u001b[0;36m0\u001b[0m\u001b[0;34m]\u001b[0m\u001b[0;34m\u001b[0m\u001b[0;34m\u001b[0m\u001b[0m\n\u001b[1;32m     23\u001b[0m         \u001b[0mD2\u001b[0m \u001b[0;34m=\u001b[0m \u001b[0mrecordSplit\u001b[0m\u001b[0;34m[\u001b[0m\u001b[0;36m1\u001b[0m\u001b[0;34m]\u001b[0m\u001b[0;34m\u001b[0m\u001b[0;34m\u001b[0m\u001b[0m\n\u001b[0;32m---> 24\u001b[0;31m         \u001b[0;32mreturn\u001b[0m \u001b[0;34m[\u001b[0m\u001b[0mg\u001b[0m\u001b[0;34m,\u001b[0m \u001b[0mnames\u001b[0m\u001b[0;34m[\u001b[0m\u001b[0mv\u001b[0m\u001b[0;34m]\u001b[0m \u001b[0;34m+\u001b[0m\u001b[0;34m'<='\u001b[0m\u001b[0;34m+\u001b[0m \u001b[0mstr\u001b[0m\u001b[0;34m(\u001b[0m\u001b[0msplitValue\u001b[0m\u001b[0;34m)\u001b[0m\u001b[0;34m,\u001b[0m \u001b[0mBuild\u001b[0m\u001b[0;34m(\u001b[0m\u001b[0mD1\u001b[0m\u001b[0;34m,\u001b[0m \u001b[0mA\u001b[0m\u001b[0;34m,\u001b[0m \u001b[0mminNum\u001b[0m\u001b[0;34m,\u001b[0m \u001b[0mv\u001b[0m\u001b[0;34m+\u001b[0m\u001b[0;36m1\u001b[0m\u001b[0;34m,\u001b[0m\u001b[0mnames\u001b[0m\u001b[0;34m)\u001b[0m\u001b[0;34m,\u001b[0m \u001b[0mBuild\u001b[0m\u001b[0;34m(\u001b[0m\u001b[0mD2\u001b[0m\u001b[0;34m,\u001b[0m \u001b[0mA\u001b[0m\u001b[0;34m,\u001b[0m \u001b[0mminNum\u001b[0m\u001b[0;34m,\u001b[0m \u001b[0mv\u001b[0m\u001b[0;34m+\u001b[0m\u001b[0;36m1\u001b[0m\u001b[0;34m,\u001b[0m\u001b[0mnames\u001b[0m\u001b[0;34m)\u001b[0m\u001b[0;34m]\u001b[0m\u001b[0;34m\u001b[0m\u001b[0;34m\u001b[0m\u001b[0m\n\u001b[0m",
      "\u001b[0;32m<ipython-input-28-1bef9ce80d18>\u001b[0m in \u001b[0;36mBuild\u001b[0;34m(D, A, minNum, v, names)\u001b[0m\n\u001b[1;32m      1\u001b[0m \u001b[0;31m#Recursive fonction to create the DecisionTree\u001b[0m\u001b[0;34m\u001b[0m\u001b[0;34m\u001b[0m\u001b[0;34m\u001b[0m\u001b[0m\n\u001b[1;32m      2\u001b[0m \u001b[0;32mdef\u001b[0m \u001b[0mBuild\u001b[0m\u001b[0;34m(\u001b[0m\u001b[0mD\u001b[0m\u001b[0;34m,\u001b[0m \u001b[0mA\u001b[0m\u001b[0;34m,\u001b[0m \u001b[0mminNum\u001b[0m\u001b[0;34m,\u001b[0m \u001b[0mv\u001b[0m\u001b[0;34m,\u001b[0m \u001b[0mnames\u001b[0m\u001b[0;34m)\u001b[0m\u001b[0;34m:\u001b[0m\u001b[0;34m\u001b[0m\u001b[0;34m\u001b[0m\u001b[0m\n\u001b[0;32m----> 3\u001b[0;31m     \u001b[0mclassBool\u001b[0m \u001b[0;34m=\u001b[0m \u001b[0mD\u001b[0m\u001b[0;34m[\u001b[0m\u001b[0;36m0\u001b[0m\u001b[0;34m]\u001b[0m\u001b[0;34m[\u001b[0m\u001b[0;36m3\u001b[0m\u001b[0;34m]\u001b[0m\u001b[0;34m\u001b[0m\u001b[0;34m\u001b[0m\u001b[0m\n\u001b[0m\u001b[1;32m      4\u001b[0m     \u001b[0msameBool\u001b[0m \u001b[0;34m=\u001b[0m \u001b[0;32mTrue\u001b[0m\u001b[0;34m\u001b[0m\u001b[0;34m\u001b[0m\u001b[0m\n\u001b[1;32m      5\u001b[0m     \u001b[0ms\u001b[0m \u001b[0;34m=\u001b[0m \u001b[0;36m0\u001b[0m\u001b[0;34m\u001b[0m\u001b[0;34m\u001b[0m\u001b[0m\n",
      "\u001b[0;31mIndexError\u001b[0m: list index out of range"
     ]
    }
   ],
   "source": [
    "#Test\n",
    "print(dataFromFile('/Users/Tiffany/Desktop/telecom/2A/SD201/TP3/LabDecisionTreeSD201/data/data.csv'))\n",
    "dT = BuildDecisionTree('/Users/Tiffany/Desktop/telecom/2A/SD201/TP3/LabDecisionTreeSD201/data/data.csv',20)\n",
    "print(dT)"
   ]
  },
  {
   "cell_type": "code",
   "execution_count": 218,
   "metadata": {},
   "outputs": [],
   "source": [
    "#Question 1b\n",
    "\n",
    "def linTree(decisionTree):\n",
    "    T = []\n",
    "    for i in range(2**4 -1):\n",
    "        T.append([])\n",
    "    lin(decisionTree, 0, T)\n",
    "    return T"
   ]
  },
  {
   "cell_type": "code",
   "execution_count": 219,
   "metadata": {},
   "outputs": [],
   "source": [
    "def lin(tree, position, T):\n",
    "    T[position].append(tree[0])\n",
    "    T[position].append(tree[1])\n",
    "    if tree[1] == 0 or tree[1] == 1 : #it is a leaf\n",
    "        T[position].append(tree[2])\n",
    "    else:\n",
    "        lin(tree[2], 2*position+1, T)\n",
    "        lin(tree[3], 2*position+2, T)"
   ]
  },
  {
   "cell_type": "code",
   "execution_count": 220,
   "metadata": {},
   "outputs": [],
   "source": [
    "def printDecisionTree(decisionTree):\n",
    "    decisionTree = linTree(decisionTree)\n",
    "    S = ''\n",
    "    depth = int(math.log2(len(decisionTree)+1)) #graph depth\n",
    "    for i in range(depth):\n",
    "        length = 2**i\n",
    "        for j in range (length): #We browse every node every levels\n",
    "            position = 2**i -1 +j\n",
    "            if decisionTree[position]!= [] :\n",
    "        #We label the type of node and add its level and feature\n",
    "                if (position==0):\n",
    "                    S+= 'Root \\n'\n",
    "                    S+= 'Level ' + str(i) + '\\n'\n",
    "                    S+= 'Feature ' + str(decisionTree[position][1]) +'\\n'\n",
    "                elif (2*position >= len(decisionTree)-1):\n",
    "                    S+= 'Leaf \\n'\n",
    "                    S+= 'Level ' + str(i) + '\\n'\n",
    "                    S+= 'Class ' + str(decisionTree[position][1]) + '\\n'\n",
    "                elif (decisionTree[2*position +1]==[]):\n",
    "                    S+= 'Leaf \\n'\n",
    "                    S+= 'Level ' + str(i) + '\\n'\n",
    "                    S+= 'Class ' + str(decisionTree[position][1]) + '\\n'\n",
    "                else : \n",
    "                    S+= 'Intermediate'\n",
    "                    S+= '\\n Level ' + str(i) + '\\n'\n",
    "                    S+= 'Feature ' + str(decisionTree[position][1]) +'\\n'\n",
    "          \n",
    "                S+= 'Gini '+ str(decisionTree[position][0]) +'\\n' \n",
    "\n",
    "                condition = False #determines if we haven't finish this level\n",
    "                for k in range (j+1,length):\n",
    "                    if decisionTree[2**i-1+k]!= []:\n",
    "                        condition = True\n",
    "                if (condition): #If we haven't\n",
    "                    S+= '*****\\n'\n",
    "                else :\n",
    "                    S += '\\n'\n",
    "    print (S)"
   ]
  },
  {
   "cell_type": "code",
   "execution_count": 224,
   "metadata": {},
   "outputs": [
    {
     "name": "stdout",
     "output_type": "stream",
     "text": [
      "Root \n",
      "Level 0\n",
      "Feature Sex<=0\n",
      "Gini 0.4723650263627057\n",
      "\n",
      "Intermediate\n",
      " Level 1\n",
      "Feature Pclass<=2\n",
      "Gini 0.384430473372781\n",
      "*****\n",
      "Intermediate\n",
      " Level 1\n",
      "Feature Pclass<=1\n",
      "Gini 0.3064437162277842\n",
      "\n",
      "Intermediate\n",
      " Level 2\n",
      "Feature Embarked<=1\n",
      "Gini 0.10140306122448985\n",
      "*****\n",
      "Intermediate\n",
      " Level 2\n",
      "Feature Embarked<=1\n",
      "Gini 0.5\n",
      "*****\n",
      "Intermediate\n",
      " Level 2\n",
      "Feature Embarked<=0\n",
      "Gini 0.46560064498790643\n",
      "*****\n",
      "Intermediate\n",
      " Level 2\n",
      "Feature Embarked<=0\n",
      "Gini 0.24174858108924058\n",
      "\n",
      "Leaf \n",
      "Level 3\n",
      "Class 1\n",
      "Gini 0.03702385190459241\n",
      "*****\n",
      "Leaf \n",
      "Level 3\n",
      "Class 1\n",
      "Gini 0.12945179584120986\n",
      "*****\n",
      "Leaf \n",
      "Level 3\n",
      "Class 1\n",
      "Gini 0.4228316326530613\n",
      "*****\n",
      "Leaf \n",
      "Level 3\n",
      "Class 0\n",
      "Gini 0.46875\n",
      "*****\n",
      "Leaf \n",
      "Level 3\n",
      "Class 0\n",
      "Gini 0.48185941043083896\n",
      "*****\n",
      "Leaf \n",
      "Level 3\n",
      "Class 0\n",
      "Gini 0.455\n",
      "*****\n",
      "Leaf \n",
      "Level 3\n",
      "Class 0\n",
      "Gini 0.3503025987896047\n",
      "*****\n",
      "Leaf \n",
      "Level 3\n",
      "Class 0\n",
      "Gini 0.22524194945669662\n",
      "\n",
      "\n"
     ]
    }
   ],
   "source": [
    "#Test \n",
    "printDecisionTree(dT)"
   ]
  },
  {
   "cell_type": "code",
   "execution_count": null,
   "metadata": {},
   "outputs": [],
   "source": [
    "def pruneTree(decisionTree,alpha,Tree):\n",
    "    "
   ]
  }
 ],
 "metadata": {
  "kernelspec": {
   "display_name": "Python 3",
   "language": "python",
   "name": "python3"
  },
  "language_info": {
   "codemirror_mode": {
    "name": "ipython",
    "version": 3
   },
   "file_extension": ".py",
   "mimetype": "text/x-python",
   "name": "python",
   "nbconvert_exporter": "python",
   "pygments_lexer": "ipython3",
   "version": "3.8.3"
  }
 },
 "nbformat": 4,
 "nbformat_minor": 4
}
